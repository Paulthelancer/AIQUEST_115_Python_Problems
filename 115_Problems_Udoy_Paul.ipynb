{
 "cells": [
  {
   "cell_type": "markdown",
   "id": "012e5440-f23c-46ae-9fb6-cfd041a35eb5",
   "metadata": {},
   "source": [
    "# 1. Variable Swap: Write a Python program to swap the values of two variables without using a temporary variable."
   ]
  },
  {
   "cell_type": "code",
   "execution_count": 6,
   "id": "812b1a8e-17bf-4970-ad8a-a4f095b6bd3f",
   "metadata": {
    "tags": []
   },
   "outputs": [
    {
     "name": "stdout",
     "output_type": "stream",
     "text": [
      "The value of var_1= 20\n",
      "The value of var_2= 10\n",
      "The new value of var_1= 10\n",
      "The new value of var_2= 20\n"
     ]
    }
   ],
   "source": [
    "var_1=20\n",
    "var_2=10\n",
    "print(f\"The value of var_1= {var_1}\\nThe value of var_2= {var_2}\")\n",
    "\n",
    "#SWAPING\n",
    "var_1=var_1+var_2#making var_1=20+10=30 \n",
    "var_2=var_1-var_2#var_2=30-var_2=30-10=20   Technically: var_2=var_1-var_2 => var_2=var_1+var_2-var_2=> var_2=var_1\n",
    "var_1=var_1-var_2#var_1=30-20=10            Technically: var_1=var_1-var_2 => var_1=var_1+var_2-var_1=> var_1=var_2\n",
    "\n",
    "print(f\"The new value of var_1= {var_1}\\nThe new value of var_2= {var_2}\")"
   ]
  },
  {
   "cell_type": "markdown",
   "id": "9250c60d-3160-4c8e-9cac-ccc20d6b244d",
   "metadata": {
    "tags": []
   },
   "source": [
    "# 2. Even or Odd: Write a Python program that takes an integer as input and prints whether it is even or odd."
   ]
  },
  {
   "cell_type": "code",
   "execution_count": 7,
   "id": "7f6ba93b-46af-4670-87d0-eddb504cb0b9",
   "metadata": {
    "tags": []
   },
   "outputs": [
    {
     "name": "stdin",
     "output_type": "stream",
     "text": [
      "Please enter an iteger number to check if it is even or odd:  25\n"
     ]
    },
    {
     "name": "stdout",
     "output_type": "stream",
     "text": [
      "25 is an Odd Number\n"
     ]
    }
   ],
   "source": [
    "k=int(input(\"Please enter an iteger number to check if it is even or odd: \"))\n",
    "def even_odd(n):\n",
    "    if n%2==0:\n",
    "        return f\"{n} is an Even Number\"\n",
    "    else:\n",
    "        return f\"{n} is an Odd Number\"\n",
    "print(even_odd(k))"
   ]
  },
  {
   "cell_type": "markdown",
   "id": "ff4a41a7-af90-4dee-8934-bbdbf565e6ba",
   "metadata": {},
   "source": [
    "# 3. String Reverse: Write a Python function to reverse a given string and return the reversed string."
   ]
  },
  {
   "cell_type": "code",
   "execution_count": 8,
   "id": "51c9e6f6-7804-4bd6-8c37-1a6f4f2e586a",
   "metadata": {
    "tags": []
   },
   "outputs": [
    {
     "name": "stdin",
     "output_type": "stream",
     "text": [
      "Enter a text of any length: my name is udoy\n"
     ]
    },
    {
     "name": "stdout",
     "output_type": "stream",
     "text": [
      "yodu si eman ym\n"
     ]
    }
   ],
   "source": [
    "my_string = input(\"Enter a text of any length:\")\n",
    "print(str(my_string)[::-1])#slicing from the index start to index stop, arr[start:stop:step],start=none, stop=none, step=-1"
   ]
  },
  {
   "cell_type": "code",
   "execution_count": 15,
   "id": "5c5e0dc7-a49a-4088-b6b3-ce5d3ce7155c",
   "metadata": {
    "tags": []
   },
   "outputs": [
    {
     "name": "stdin",
     "output_type": "stream",
     "text": [
      "Enter a text of any length: She Sell Sea Shell in the Sea Shore\n"
     ]
    },
    {
     "name": "stdout",
     "output_type": "stream",
     "text": [
      "erohS aeS eht ni llehS aeS lleS ehS"
     ]
    }
   ],
   "source": [
    "#Alternatively using for loop\n",
    "my_string = input(\"Enter a text of any length:\")\n",
    "for i in range(1,len(my_string)+1):\n",
    "    print(str(my_string)[-i],end=\"\")\n",
    "    "
   ]
  },
  {
   "cell_type": "markdown",
   "id": "c9497250-f485-46b6-bad7-f7e41a84170b",
   "metadata": {},
   "source": [
    "# 4. Type Conversion: Given a list of integers, write a Python program to convert each element of the list to a string."
   ]
  },
  {
   "cell_type": "code",
   "execution_count": 18,
   "id": "a0df82d5-3577-42e4-b20f-6be97f50f4b6",
   "metadata": {
    "tags": []
   },
   "outputs": [
    {
     "name": "stdout",
     "output_type": "stream",
     "text": [
      "1234567"
     ]
    }
   ],
   "source": [
    "int_list=[1,2,3,4,5,6,7]\n",
    "for i in int_list:\n",
    "    print(i,end=\"\")"
   ]
  },
  {
   "cell_type": "markdown",
   "id": "9fe22486-ae83-4e03-8b00-dd396b21af7d",
   "metadata": {},
   "source": [
    "# 5. Temperature Converter: Write a Python program that converts a temperature in Celsius to Fahrenheit. Take the Celsius temperature as input from the user."
   ]
  },
  {
   "cell_type": "code",
   "execution_count": 21,
   "id": "be26862d-2e8d-46b8-85f1-e42015059b5f",
   "metadata": {
    "tags": []
   },
   "outputs": [
    {
     "name": "stdin",
     "output_type": "stream",
     "text": [
      "Enter the temperature in celsius:  36.5\n"
     ]
    },
    {
     "name": "stdout",
     "output_type": "stream",
     "text": [
      "36.5 Degree Celsius Eqals to 97.7 Degree Fahrenheit\n"
     ]
    }
   ],
   "source": [
    "cel_t=float(input(\"Enter the temperature in celsius: \"))\n",
    "def temp_conv_cel_fer(cel):\n",
    "    fer=round(float((cel*(9/5))+32),2)\n",
    "    return f\"{cel} Degree Celsius Eqals to {fer} Degree Fahrenheit\"\n",
    "print(temp_conv_cel_fer(cel_t))"
   ]
  },
  {
   "cell_type": "markdown",
   "id": "67477feb-8777-4629-845b-71fc511f9217",
   "metadata": {},
   "source": [
    "# 6. Data Type Checker: Write a Python function that takes a variable as input and returns the data type of the variable as a string (e.g., “int”, “float”, “str”, “list”, etc.)."
   ]
  },
  {
   "cell_type": "code",
   "execution_count": 38,
   "id": "7411e1c1-eae7-4c10-adeb-3c79e5adcd68",
   "metadata": {
    "tags": []
   },
   "outputs": [
    {
     "name": "stdout",
     "output_type": "stream",
     "text": [
      "Integer\n",
      "Float\n",
      "String\n",
      "List\n",
      "Dictionary\n"
     ]
    }
   ],
   "source": [
    "def check_user_input(inputs):\n",
    "    if type(inputs)==type(25):\n",
    "        return \"Integer\"\n",
    "    elif type(inputs)==type([2,3,5,'x']):\n",
    "        return \"List\"\n",
    "    elif type(inputs)==type('x'):\n",
    "        return \"String\" \n",
    "    elif type(inputs)==type(2.59):\n",
    "        return \"Float\"\n",
    "    elif type(inputs)==type({\"Brand\":\"Ford\",\"Year\":1994}):\n",
    "        return \"Dictionary\"\n",
    "\n",
    "i=25\n",
    "j=25.50\n",
    "k=\"Y\"\n",
    "l=[1,'p']\n",
    "m={'a':2,'b':0.25}\n",
    "print(check_user_input(i))\n",
    "print(check_user_input(j))\n",
    "print(check_user_input(k))\n",
    "print(check_user_input(l))\n",
    "print(check_user_input(m))"
   ]
  },
  {
   "cell_type": "markdown",
   "id": "d927161c-279c-4ddf-87f9-73d6abbdf684",
   "metadata": {},
   "source": [
    "# 7. String Palindrome: Write a Python function to check if a given string is a palindrome or not."
   ]
  },
  {
   "cell_type": "code",
   "execution_count": 31,
   "id": "bd93f2b0-5dc8-4cd5-ad3f-4ff6d2458fb8",
   "metadata": {
    "tags": []
   },
   "outputs": [
    {
     "name": "stdin",
     "output_type": "stream",
     "text": [
      "Enter a text of any length: 123i321\n"
     ]
    },
    {
     "name": "stdout",
     "output_type": "stream",
     "text": [
      "Its a Palindrome\n"
     ]
    }
   ],
   "source": [
    "my_string = input(\"Enter a text of any length:\")\n",
    "\n",
    "def palin_checker(string_1):\n",
    "    rev_string = str(string_1)[::-1]\n",
    "\n",
    "    if string_1==rev_string:\n",
    "        return \"Its a Palindrome\"\n",
    "    else:\n",
    "        return \"Not a Palindrome\"\n",
    "\n",
    "print(palin_checker(my_string))"
   ]
  },
  {
   "cell_type": "markdown",
   "id": "a382224a-8624-43e2-9918-a2487184f96e",
   "metadata": {},
   "source": [
    "# 8. String Reversal with Slicing: Write a Python function to reverse a given string using slicing."
   ]
  },
  {
   "cell_type": "code",
   "execution_count": 32,
   "id": "1970618f-e6a6-4ca1-84d4-cdd3d75933f6",
   "metadata": {
    "tags": []
   },
   "outputs": [
    {
     "name": "stdin",
     "output_type": "stream",
     "text": [
      "Enter a text of any length: 235lkp\n"
     ]
    },
    {
     "name": "stdout",
     "output_type": "stream",
     "text": [
      "pkl532\n"
     ]
    }
   ],
   "source": [
    "my_string = input(\"Enter a text of any length:\")\n",
    "print(str(my_string)[::-1])"
   ]
  },
  {
   "cell_type": "markdown",
   "id": "fae5773e-2106-4769-b9f7-03d8947ee0aa",
   "metadata": {},
   "source": [
    "# 9. String Concatenation: Write a Python program that takes two strings as input and concatenates them into a single string without using the `+` operator."
   ]
  },
  {
   "cell_type": "code",
   "execution_count": 35,
   "id": "1335736e-165e-4c8a-8b05-07ab93fe8324",
   "metadata": {
    "tags": []
   },
   "outputs": [
    {
     "name": "stdout",
     "output_type": "stream",
     "text": [
      "Concatenated String is: 'My Name is Udoy'\n"
     ]
    }
   ],
   "source": [
    "s1=\"My Name\"\n",
    "s2=\"is Udoy\"\n",
    "concate=\" \".join([s1, s2])\n",
    "print(f\"Concatenated String is: '{concate}'\")"
   ]
  },
  {
   "cell_type": "markdown",
   "id": "c6b5ae53-3fc9-4809-aa59-b59fd647878b",
   "metadata": {},
   "source": [
    "# 10. Typecasting Challenge: Given three variables: `a = ‘100’`, `b = 25`, and `c = ‘10.5’`, write a Python program to perform the following operations and print the results:\n",
    "– Convert `a` to an integer and add it to `b`.\n",
    "\n",
    "– Convert `c` to a float and subtract it from the result of the first operation.\n",
    "\n",
    "– Convert the final result to a string and concatenate it with the string ” is the answer."
   ]
  },
  {
   "cell_type": "code",
   "execution_count": 36,
   "id": "233157f5-73c0-472d-a53a-0923fac12b9d",
   "metadata": {
    "tags": []
   },
   "outputs": [
    {
     "name": "stdout",
     "output_type": "stream",
     "text": [
      "114.5 is the answer\n"
     ]
    }
   ],
   "source": [
    "a='100'\n",
    "b=25\n",
    "c='10.5'\n",
    "#task1\n",
    "a=int(a)\n",
    "sum_ab=a+b\n",
    "#task2\n",
    "c=float(c)\n",
    "sum_final=sum_ab-c\n",
    "#task3\n",
    "string_final=str(sum_final)\n",
    "concat_result=\" \".join([string_final,\"is the answer\"])\n",
    "print(concat_result)"
   ]
  },
  {
   "cell_type": "markdown",
   "id": "1ff15f98-3528-4c4e-b73e-d694a35ef74a",
   "metadata": {},
   "source": [
    "# 11. Positive, Negative, or Zero: Write a Python program that takes a number as input and prints whether it is positive, negative, or zero."
   ]
  },
  {
   "cell_type": "code",
   "execution_count": 37,
   "id": "ae4493c9-c79e-4c8b-b5f6-cf42ae45f5ce",
   "metadata": {
    "tags": []
   },
   "outputs": [
    {
     "name": "stdin",
     "output_type": "stream",
     "text": [
      "Enter a Number:  25\n"
     ]
    },
    {
     "name": "stdout",
     "output_type": "stream",
     "text": [
      "Positive\n"
     ]
    }
   ],
   "source": [
    "my_input=float(input(\"Enter a Number: \"))\n",
    "def pos_neg_zer(n):\n",
    "    if n<0:\n",
    "        return \"Negative\"\n",
    "    elif n==0:\n",
    "        return \"Zero\"\n",
    "    else:\n",
    "        return \"Positive\"\n",
    "print(pos_neg_zer(my_input))"
   ]
  },
  {
   "cell_type": "markdown",
   "id": "3a465fff-ac64-43f7-b7f3-13a6bfca7181",
   "metadata": {},
   "source": [
    "# 12. Largest of Three Numbers: Write a Python program that takes three numbers as input and prints the largest among them."
   ]
  },
  {
   "cell_type": "code",
   "execution_count": 41,
   "id": "1aacc7c0-cc14-421c-833d-e11dea8e880b",
   "metadata": {
    "tags": []
   },
   "outputs": [
    {
     "name": "stdout",
     "output_type": "stream",
     "text": [
      "18\n"
     ]
    }
   ],
   "source": [
    "def largest_of_three(k,l,m):\n",
    "    if k>l:\n",
    "        if k>m:\n",
    "            return k\n",
    "        else:\n",
    "            return m\n",
    "    elif k<l:\n",
    "        if l>m:\n",
    "            return l\n",
    "        else:\n",
    "            return m\n",
    "print(largest_of_three(9,8,18))"
   ]
  },
  {
   "cell_type": "markdown",
   "id": "084ec4dd-7376-4a00-b0eb-60a7523a1256",
   "metadata": {},
   "source": [
    "# 13. Leap Year Checker: Write a Python program that takes a year as input and determines if it is a leap year or not. \n",
    "\n",
    "**To check if a year is a leap year, it should satisfy the following conditions:**\n",
    "\n",
    "The year should be divisible by 4.\n",
    "\n",
    "If the year is divisible by 100, it should also be divisible by 400."
   ]
  },
  {
   "cell_type": "code",
   "execution_count": 43,
   "id": "dd0a47c8-fb45-4444-8de7-969eb14355e4",
   "metadata": {
    "tags": []
   },
   "outputs": [
    {
     "name": "stdin",
     "output_type": "stream",
     "text": [
      "Enter year to be checked: 3000\n"
     ]
    },
    {
     "name": "stdout",
     "output_type": "stream",
     "text": [
      "The year isn't a leap year!\n"
     ]
    }
   ],
   "source": [
    "leap_year=int(input(\"Enter year to be checked:\"))\n",
    "if(leap_year%4==0 and leap_year%100!=0 or leap_year%400==0):\n",
    "    print(\"The year is a leap year!\")\n",
    "else:\n",
    "    print(\"The year isn't a leap year!\")"
   ]
  },
  {
   "cell_type": "markdown",
   "id": "69554a72-279c-42d8-b169-d51ab0b4e4b0",
   "metadata": {},
   "source": [
    "# 14. Grades Classification: Write a Python program that takes a student’s percentage as input and prints their corresponding grade according to the following criteria:\n",
    "\n",
    "– 90% or above: A+\n",
    "\n",
    "– 80-89%: A\n",
    "\n",
    "– 70-79%: B\n",
    "\n",
    "– 60-69%: C\n",
    "\n",
    "– Below 60%: Fail"
   ]
  },
  {
   "cell_type": "code",
   "execution_count": 46,
   "id": "cdbd5fa5-da83-4591-90f8-5df210503305",
   "metadata": {
    "tags": []
   },
   "outputs": [
    {
     "name": "stdin",
     "output_type": "stream",
     "text": [
      "Enter Your Marks:  205\n"
     ]
    },
    {
     "name": "stdout",
     "output_type": "stream",
     "text": [
      "Enter a value in range between 0-100 '(or in percent)'\n"
     ]
    }
   ],
   "source": [
    "grade=int(input(\"Enter Your Marks: \"))\n",
    "if grade<60:\n",
    "    print(\"Your Have Failed, Your Grade is: 'F'\")\n",
    "elif grade>=60 and grade<=69:\n",
    "    print(\"Your Grade is: 'C'\")\n",
    "elif grade>=70 and grade<=79:\n",
    "    print(\"Your Grade is: 'B'\")\n",
    "elif grade>=80 and grade <=89:\n",
    "    print(\"Your Grade is: 'A'\")\n",
    "elif grade>=90 and grade<=100:\n",
    "    print(\"Your Grade is: 'A+'\")\n",
    "else:\n",
    "    print(\"Enter a value in range between 0-100 '(or in percent)'\")"
   ]
  },
  {
   "cell_type": "markdown",
   "id": "79ab2712-484e-410b-8bb0-56a38133073c",
   "metadata": {},
   "source": [
    "# 15. Vowel or Consonant: Write a Python program that takes a single character as input and determines whether it is a vowel or a consonant."
   ]
  },
  {
   "cell_type": "code",
   "execution_count": 51,
   "id": "6b31fe31-120d-4382-b86c-aa9a61cf3f0c",
   "metadata": {
    "tags": []
   },
   "outputs": [
    {
     "name": "stdin",
     "output_type": "stream",
     "text": [
      "Enter a Letter to check if it is vowel or consonent:  E\n"
     ]
    },
    {
     "name": "stdout",
     "output_type": "stream",
     "text": [
      "E is a VOWEL\n"
     ]
    }
   ],
   "source": [
    "vowels=['A','E','I','O','U']\n",
    "my_inp=input(\"Enter a Letter to check if it is vowel or consonent: \")\n",
    "let_inp=my_inp.upper()\n",
    "count=0\n",
    "for i in vowels:\n",
    "    if i==let_inp:\n",
    "        count+=1\n",
    "if count>0:\n",
    "    print(f\"{my_inp} is a VOWEL\")\n",
    "elif count==0:\n",
    "    print(f\"{my_inp} is a CONSONENT\")"
   ]
  },
  {
   "cell_type": "markdown",
   "id": "ca2943cf-fa37-4b11-be57-633a5ab2ec76",
   "metadata": {},
   "source": [
    "# 16. Time Classification: Write a Python program that takes the time in hours (24-hour format) as input and prints “Good Morning”, “Good Afternoon”, “Good Evening”, or “Good Night” based on the time."
   ]
  },
  {
   "cell_type": "code",
   "execution_count": 3,
   "id": "7d4a8457-908f-4582-ade2-b306eb89f61c",
   "metadata": {
    "tags": []
   },
   "outputs": [
    {
     "name": "stdin",
     "output_type": "stream",
     "text": [
      "Please Enter Current Time in 24-Hour Format:  24\n"
     ]
    },
    {
     "name": "stdout",
     "output_type": "stream",
     "text": [
      "Good Morning!\n"
     ]
    }
   ],
   "source": [
    "time_in=float(input(\"Please Enter Current Time in 24-Hour Format: \"))\n",
    "def greetings(n):\n",
    "    if n>=0.00 or n==24.00 and n<12.00:\n",
    "        return \"Good Morning!\"\n",
    "    elif n>=12.00 and n<18.00:\n",
    "        return \"Good Afternoon\"\n",
    "    elif n>=18.00 and n<22.00:\n",
    "        return \"Good Evenning\"\n",
    "    elif n>=22.00 and n<24.00:\n",
    "        return \"Good Night\"\n",
    "    else:\n",
    "        return \"Please Enter a Valid Time in 24-Hour Format\"\n",
    "print (greetings(time_in))"
   ]
  },
  {
   "cell_type": "markdown",
   "id": "70054f8a-7756-4e11-8e44-e6efa2d8784f",
   "metadata": {},
   "source": [
    "# 17. Triangle Type Checker: Write a Python program that takes three sides of a triangle as input and determines whether it forms an equilateral, isosceles, or scalene triangle."
   ]
  },
  {
   "cell_type": "code",
   "execution_count": 8,
   "id": "8189034c-bb1a-430f-96fd-3d34d5f67b7b",
   "metadata": {
    "tags": []
   },
   "outputs": [
    {
     "name": "stdin",
     "output_type": "stream",
     "text": [
      "Enter first Side of a triangle:  4\n",
      "Enter second Side of a triangle:  1\n",
      "Enter third Side of a triangle:  3.5\n"
     ]
    },
    {
     "name": "stdout",
     "output_type": "stream",
     "text": [
      "Scalene Triangle\n"
     ]
    }
   ],
   "source": [
    "a=float(input(\"Enter first Side of a triangle: \"))\n",
    "b=float(input(\"Enter second Side of a triangle: \"))\n",
    "c=float(input(\"Enter third Side of a triangle: \"))\n",
    "\n",
    "def tr_type_chk(a,b,c):\n",
    "    if a+b<=c or b+c<=a or c+a<=b:\n",
    "        return \"Not a Triangle\"\n",
    "    else:\n",
    "        if a==b and b==c:\n",
    "            return \"Equilateral Triangle\"\n",
    "        elif a==b and b!=c or a==c and b!=c or b==c and a!=c:\n",
    "            return \"Isoceles Triangle\"\n",
    "        else:\n",
    "            return \"Scalene Triangle\"\n",
    "print(tr_type_chk(a,b,c))"
   ]
  },
  {
   "cell_type": "markdown",
   "id": "04346d64-b94e-473e-a523-66ebbcf09934",
   "metadata": {},
   "source": [
    "# 18. Quadratic Equation Solver: Write a Python program that takes the coefficients (a, b, c) of a quadratic equation as input and calculates and prints the real roots (if they exist) or a message indicating the complex roots."
   ]
  },
  {
   "cell_type": "code",
   "execution_count": 12,
   "id": "a97c1986-0b21-42a9-8734-d9bc7b2308a9",
   "metadata": {
    "tags": []
   },
   "outputs": [
    {
     "name": "stdout",
     "output_type": "stream",
     "text": [
      "Enter the Values of a, b, and c of Quadretic Equation: aX^2+bX+c=0\n"
     ]
    },
    {
     "name": "stdin",
     "output_type": "stream",
     "text": [
      "a=  2\n",
      "b=  -10\n",
      "c=  12\n"
     ]
    },
    {
     "name": "stdout",
     "output_type": "stream",
     "text": [
      "('Real Roots:', 4.5, 0.5)\n"
     ]
    }
   ],
   "source": [
    "print(\"Enter the Values of a, b, and c of Quadretic Equation: aX^2+bX+c=0\")\n",
    "a=float(input(\"a= \"))\n",
    "b=float(input(\"b= \"))\n",
    "c=float(input(\"c= \"))\n",
    "\n",
    "def quad_solver(a,b,c):\n",
    "    import math\n",
    "    det=b*b-4*a*c\n",
    "    if det<0:\n",
    "        return \"Complex Roots\"\n",
    "    elif det==0:\n",
    "        k=math.sqrt(det)/2*a\n",
    "        return \"Real and Equal Roots:\", ((-b/(2*a))+k), ((-b/(2*a))-k)\n",
    "    elif det>0:\n",
    "        k=math.sqrt(det)/2*a\n",
    "        return \"Real Roots:\", ((-b/(2*a))+k), ((-b/(2*a))-k)\n",
    "print(quad_solver(a,b,c))"
   ]
  },
  {
   "cell_type": "markdown",
   "id": "f55ad012-6809-449d-ab2d-5801a2736f7b",
   "metadata": {},
   "source": [
    "# 19. Number Ranges: Write a Python program that takes an integer as input and prints whether the number falls within the ranges: 0-50, 51-100, 101-150, or above 150."
   ]
  },
  {
   "cell_type": "code",
   "execution_count": 15,
   "id": "221b6b28-b1d8-4247-a5b2-c458f318e6af",
   "metadata": {
    "tags": []
   },
   "outputs": [
    {
     "name": "stdin",
     "output_type": "stream",
     "text": [
      "Enter a non-negative Integer Number:  45\n"
     ]
    },
    {
     "name": "stdout",
     "output_type": "stream",
     "text": [
      "45 is in range 0-50\n"
     ]
    }
   ],
   "source": [
    "input_int=int(input(\"Enter a non-negative Integer Number: \"))\n",
    "def range_finder(n):\n",
    "    if n>=0 and n<=50:\n",
    "        return f\"{n} is in range 0-50\"\n",
    "    elif n>50 and n<=100:\n",
    "        return f\"{n} is in range 51-100\"\n",
    "    elif n>100 and n<=150:\n",
    "        return f\"{n} is in range 101-150\"\n",
    "    elif n>150:\n",
    "        return f\"{n} is in range above 150\"\n",
    "    else:\n",
    "        return \"You Did not enter a non negative Integer\"\n",
    "print(range_finder(input_int))"
   ]
  },
  {
   "cell_type": "markdown",
   "id": "896f3bcb-873f-4e5a-ba54-54668ca86e69",
   "metadata": {
    "tags": []
   },
   "source": [
    "# 20. Sum of N Numbers: Write a Python program using a for loop to calculate the sum of the first N natural numbers, where N is taken as input from the user."
   ]
  },
  {
   "cell_type": "code",
   "execution_count": 17,
   "id": "310ef234-a1e5-45c1-87f0-6e46e621ec49",
   "metadata": {
    "tags": []
   },
   "outputs": [
    {
     "name": "stdin",
     "output_type": "stream",
     "text": [
      "Enter N to find a sum upto 1 to N:  50\n"
     ]
    },
    {
     "name": "stdout",
     "output_type": "stream",
     "text": [
      "The sum of first 50 natural numbers is 1275\n"
     ]
    }
   ],
   "source": [
    "N=int(input(\"Enter N to find a sum upto 1 to N: \"))\n",
    "sums=0\n",
    "for i in range (1, N+1):\n",
    "    sums+=i\n",
    "print(f\"The sum of first {N} natural numbers is {sums}\")"
   ]
  },
  {
   "cell_type": "markdown",
   "id": "40483d29-1590-4f2b-8853-822e37bf6f3e",
   "metadata": {},
   "source": [
    "# 21. Factorial Calculator: Write a Python program using a while loop to calculate the factorial of a given number N."
   ]
  },
  {
   "cell_type": "code",
   "execution_count": 24,
   "id": "849a963c-ab2e-4b63-be12-8a9f7ad4bf4a",
   "metadata": {
    "tags": []
   },
   "outputs": [
    {
     "name": "stdout",
     "output_type": "stream",
     "text": [
      "1\n"
     ]
    }
   ],
   "source": [
    "def factorials(n):\n",
    "    fact_value=1\n",
    "    i=1\n",
    "    if n==0:\n",
    "        return 1\n",
    "    else:\n",
    "        while i<n+1:\n",
    "            fact_value*=i\n",
    "            i+=1\n",
    "        return fact_value\n",
    "print(factorials(1))"
   ]
  },
  {
   "cell_type": "markdown",
   "id": "981572ff-c1a7-470a-a511-cd302dc02c1c",
   "metadata": {},
   "source": [
    "# 22. Table of a Number: Write a Python program using a for loop to print the multiplication table of a given number N."
   ]
  },
  {
   "cell_type": "code",
   "execution_count": 25,
   "id": "89165c62-f4b9-4113-a9f7-f24f9842dcaa",
   "metadata": {
    "tags": []
   },
   "outputs": [
    {
     "name": "stdin",
     "output_type": "stream",
     "text": [
      "Enter an Integer to see its times table:  15\n"
     ]
    },
    {
     "name": "stdout",
     "output_type": "stream",
     "text": [
      "15 x 1 = 15\n",
      "15 x 2 = 30\n",
      "15 x 3 = 45\n",
      "15 x 4 = 60\n",
      "15 x 5 = 75\n",
      "15 x 6 = 90\n",
      "15 x 7 = 105\n",
      "15 x 8 = 120\n",
      "15 x 9 = 135\n",
      "15 x 10 = 150\n"
     ]
    }
   ],
   "source": [
    "N=int(input(\"Enter an Integer to see its times table: \"))\n",
    "for i in range (1,11):\n",
    "    print(f\"{N} x {i} = {N*i}\")"
   ]
  },
  {
   "cell_type": "markdown",
   "id": "497c390f-42fe-41e9-95ca-20a9ab6d2f19",
   "metadata": {
    "tags": []
   },
   "source": [
    "# 23. Count Digits in a Number: Write a Python program using a while loop to count the number of digits in a given integer N."
   ]
  },
  {
   "cell_type": "code",
   "execution_count": 29,
   "id": "b042e776-3fa4-459f-b9bc-73b24d21a4a5",
   "metadata": {
    "tags": []
   },
   "outputs": [
    {
     "name": "stdin",
     "output_type": "stream",
     "text": [
      "Enter an Integer Number to count Digits 36987541236987965478965412369874563214789654123698754112369\n"
     ]
    },
    {
     "name": "stdout",
     "output_type": "stream",
     "text": [
      "Number of Digits in Number 36987541236987965478965412369874563214789654123698754112369 are : 59\n"
     ]
    }
   ],
   "source": [
    "Num=int(input(\"Enter an Integer Number to count Digits\"))\n",
    "count=0\n",
    "Num2=Num\n",
    "while Num!=0:\n",
    "    count+=1\n",
    "    Num=Num//10\n",
    "print(f\"Number of Digits in Number {Num2} are : {count}\")"
   ]
  },
  {
   "cell_type": "markdown",
   "id": "146652fc-3a16-4fc8-95bf-277282ce9099",
   "metadata": {},
   "source": [
    "# 24. Fibonacci Sequence: Write a Python program using a for loop to generate the Fibonacci sequence up to a given limit N."
   ]
  },
  {
   "cell_type": "code",
   "execution_count": 31,
   "id": "b0e5475d-9ef3-4424-9cc9-9f5819de2713",
   "metadata": {
    "tags": []
   },
   "outputs": [
    {
     "name": "stdin",
     "output_type": "stream",
     "text": [
      "Enter Number of Fibonacci Sequence You want to get:  5\n"
     ]
    },
    {
     "name": "stdout",
     "output_type": "stream",
     "text": [
      "0\n",
      "1\n",
      "1\n",
      "2\n",
      "3\n"
     ]
    }
   ],
   "source": [
    "Num=int(input(\"Enter Number of Fibonacci Sequence You want to get: \"))\n",
    "last=0\n",
    "now=1\n",
    "next_el=0\n",
    "print(last)\n",
    "#For Loop\n",
    "for i in range (1,Num):\n",
    "    next_el=last+now\n",
    "    print(now)\n",
    "    last=now\n",
    "    now=next_el    "
   ]
  },
  {
   "cell_type": "markdown",
   "id": "df29d4d0-c9d3-4e0f-8883-faac3df9e1b2",
   "metadata": {},
   "source": [
    "# 25. Sum of Even Numbers: Write a Python program using a while loop to calculate the sum of all even numbers between 1 and N, where N is taken as input from the user."
   ]
  },
  {
   "cell_type": "code",
   "execution_count": 37,
   "id": "1e56750e-3838-435d-8e6f-9d2aea4922bb",
   "metadata": {
    "tags": []
   },
   "outputs": [
    {
     "name": "stdin",
     "output_type": "stream",
     "text": [
      "Enter Upto What Number you want to sum even numbers:  7\n"
     ]
    },
    {
     "name": "stdout",
     "output_type": "stream",
     "text": [
      "12\n"
     ]
    }
   ],
   "source": [
    "Num=int(input(\"Enter Upto What Number you want to sum even numbers: \"))\n",
    "sums=0\n",
    "while Num!=0:\n",
    "    if Num%2==0:\n",
    "        sums+=Num\n",
    "    Num-=1\n",
    "print(sums)"
   ]
  },
  {
   "cell_type": "markdown",
   "id": "3b6fa1ca-6a14-4c88-8342-f0e76638c668",
   "metadata": {},
   "source": [
    "# 26. Print Patterns: Write a Python program using nested for loops to print various patterns, such as a right-angled triangle, an inverted right-angled triangle, and so on."
   ]
  },
  {
   "cell_type": "code",
   "execution_count": 42,
   "id": "6d91a44b-aeaa-4fae-8489-672a1d9286d9",
   "metadata": {
    "tags": []
   },
   "outputs": [
    {
     "name": "stdout",
     "output_type": "stream",
     "text": [
      "Right Angled Triangle\n",
      "\n",
      "#\n",
      "# #\n",
      "# # #\n",
      "# # # #\n",
      "# # # # #\n",
      "\n",
      "Inverted Right Angled Triangle\n",
      "\n",
      "# # # # #\n",
      "# # # #\n",
      "# # #\n",
      "# #\n",
      "#\n"
     ]
    }
   ],
   "source": [
    "l=[1,2,3,4,5]\n",
    "m=[5,4,3,2,1]\n",
    "k=[]\n",
    "print(\"Right Angled Triangle\\n\")\n",
    "for i in l:\n",
    "    for x in range (0,i):\n",
    "        k.append(\"#\")\n",
    "    print(*k)\n",
    "    k=[]\n",
    "\n",
    "print(\"\\nInverted Right Angled Triangle\\n\")\n",
    "for i in m:\n",
    "    for x in range (0,i):\n",
    "        k.append(\"#\")\n",
    "    print(*k)\n",
    "    k=[]"
   ]
  },
  {
   "cell_type": "markdown",
   "id": "ed851f6a-aa43-4afa-a426-b504584f54c1",
   "metadata": {},
   "source": [
    "# 27. Prime Number Checker: Write a Python program using a while loop to check if a given number N is prime or not."
   ]
  },
  {
   "cell_type": "code",
   "execution_count": 46,
   "id": "36cb0c2d-00ec-4fb9-9668-f3d150327e2c",
   "metadata": {
    "tags": []
   },
   "outputs": [
    {
     "name": "stdin",
     "output_type": "stream",
     "text": [
      "Enter a number to check if it is a Prime:  99878965123\n"
     ]
    },
    {
     "name": "stdout",
     "output_type": "stream",
     "text": [
      "99878965123 is NOT a Prime Number\n"
     ]
    }
   ],
   "source": [
    "def prime_check(n):\n",
    "    import math\n",
    "    k=math.ceil(math.sqrt(n))\n",
    "    i=2\n",
    "    tester=0\n",
    "    while i in range(k):\n",
    "        if n%i==0:\n",
    "            tester+=1\n",
    "        i+=1\n",
    "    if n==1:\n",
    "        return False\n",
    "    if tester==0:\n",
    "        return True\n",
    "    else:\n",
    "        return False\n",
    "        \n",
    "Num=int(input(\"Enter a number to check if it is a Prime: \"))\n",
    "\n",
    "if prime_check(Num)==True:\n",
    "    print(f\"{Num} is a Prime Number\")\n",
    "else:\n",
    "    print(f\"{Num} is NOT a Prime Number\")\n",
    "    "
   ]
  },
  {
   "cell_type": "markdown",
   "id": "2fe7ac81-a4c8-4a5b-8301-c4d872b88273",
   "metadata": {},
   "source": [
    "# 28. List Manipulation: Given a list of integers, write a Python program using a for loop to find the sum, average, maximum, and minimum values in the list."
   ]
  },
  {
   "cell_type": "code",
   "execution_count": 143,
   "id": "2b51347a-4f6e-4c8b-9ac4-0db61b251254",
   "metadata": {
    "tags": []
   },
   "outputs": [
    {
     "name": "stdout",
     "output_type": "stream",
     "text": [
      "1e+200\n",
      "Sum of Elements= 105\n",
      "Minimum= 1\n",
      "Maximum= 56\n",
      "Average= 10.5\n"
     ]
    }
   ],
   "source": [
    "a=[1,2,3,4,5,56,7,8,9,10]\n",
    "import math\n",
    "sums=0\n",
    "mins=math.pow(10,2000)\n",
    "maxs=0\n",
    "for i in a:\n",
    "    sums+=i\n",
    "    if i<mins:\n",
    "        mins=i\n",
    "    if i>maxs:\n",
    "        maxs=i\n",
    "print(f\"Sum of Elements= {sums}\")\n",
    "print(f\"Minimum= {mins}\")\n",
    "print(f\"Maximum= {maxs}\")\n",
    "print(f\"Average= {sums/len(a)}\")"
   ]
  },
  {
   "cell_type": "markdown",
   "id": "3821940b-7cf4-40c0-8a74-4adf0bce2a93",
   "metadata": {},
   "source": [
    "# 29. Reverse String: Write a Python program using a while loop to reverse a given string."
   ]
  },
  {
   "cell_type": "code",
   "execution_count": 49,
   "id": "1fcd7c9f-3388-44dc-80b5-5e69bd2c07ce",
   "metadata": {
    "tags": []
   },
   "outputs": [
    {
     "name": "stdin",
     "output_type": "stream",
     "text": [
      "Enter a text of any length: While\n"
     ]
    },
    {
     "name": "stdout",
     "output_type": "stream",
     "text": [
      "elihW"
     ]
    }
   ],
   "source": [
    "my_string = input(\"Enter a text of any length:\")\n",
    "i=1\n",
    "while i in range(len(my_string)+1):\n",
    "    print(str(my_string)[-i],end=\"\")\n",
    "    i+=1"
   ]
  },
  {
   "cell_type": "markdown",
   "id": "f2d8c7e3-4f19-43a9-817a-0616a290b0bc",
   "metadata": {},
   "source": [
    "# 30. Multiplication Table: Write a Python program using nested loops to print the multiplication table from 1 to 10."
   ]
  },
  {
   "cell_type": "code",
   "execution_count": 52,
   "id": "4d9a3e62-353c-42ec-9449-c194157beedb",
   "metadata": {
    "tags": []
   },
   "outputs": [
    {
     "name": "stdout",
     "output_type": "stream",
     "text": [
      "1 x 1 = 1\n",
      "1 x 2 = 2\n",
      "1 x 3 = 3\n",
      "1 x 4 = 4\n",
      "1 x 5 = 5\n",
      "1 x 6 = 6\n",
      "1 x 7 = 7\n",
      "1 x 8 = 8\n",
      "1 x 9 = 9\n",
      "1 x 10 = 10\n",
      "\n",
      "\n",
      "2 x 1 = 2\n",
      "2 x 2 = 4\n",
      "2 x 3 = 6\n",
      "2 x 4 = 8\n",
      "2 x 5 = 10\n",
      "2 x 6 = 12\n",
      "2 x 7 = 14\n",
      "2 x 8 = 16\n",
      "2 x 9 = 18\n",
      "2 x 10 = 20\n",
      "\n",
      "\n",
      "3 x 1 = 3\n",
      "3 x 2 = 6\n",
      "3 x 3 = 9\n",
      "3 x 4 = 12\n",
      "3 x 5 = 15\n",
      "3 x 6 = 18\n",
      "3 x 7 = 21\n",
      "3 x 8 = 24\n",
      "3 x 9 = 27\n",
      "3 x 10 = 30\n",
      "\n",
      "\n",
      "4 x 1 = 4\n",
      "4 x 2 = 8\n",
      "4 x 3 = 12\n",
      "4 x 4 = 16\n",
      "4 x 5 = 20\n",
      "4 x 6 = 24\n",
      "4 x 7 = 28\n",
      "4 x 8 = 32\n",
      "4 x 9 = 36\n",
      "4 x 10 = 40\n",
      "\n",
      "\n",
      "5 x 1 = 5\n",
      "5 x 2 = 10\n",
      "5 x 3 = 15\n",
      "5 x 4 = 20\n",
      "5 x 5 = 25\n",
      "5 x 6 = 30\n",
      "5 x 7 = 35\n",
      "5 x 8 = 40\n",
      "5 x 9 = 45\n",
      "5 x 10 = 50\n",
      "\n",
      "\n",
      "6 x 1 = 6\n",
      "6 x 2 = 12\n",
      "6 x 3 = 18\n",
      "6 x 4 = 24\n",
      "6 x 5 = 30\n",
      "6 x 6 = 36\n",
      "6 x 7 = 42\n",
      "6 x 8 = 48\n",
      "6 x 9 = 54\n",
      "6 x 10 = 60\n",
      "\n",
      "\n",
      "7 x 1 = 7\n",
      "7 x 2 = 14\n",
      "7 x 3 = 21\n",
      "7 x 4 = 28\n",
      "7 x 5 = 35\n",
      "7 x 6 = 42\n",
      "7 x 7 = 49\n",
      "7 x 8 = 56\n",
      "7 x 9 = 63\n",
      "7 x 10 = 70\n",
      "\n",
      "\n",
      "8 x 1 = 8\n",
      "8 x 2 = 16\n",
      "8 x 3 = 24\n",
      "8 x 4 = 32\n",
      "8 x 5 = 40\n",
      "8 x 6 = 48\n",
      "8 x 7 = 56\n",
      "8 x 8 = 64\n",
      "8 x 9 = 72\n",
      "8 x 10 = 80\n",
      "\n",
      "\n",
      "9 x 1 = 9\n",
      "9 x 2 = 18\n",
      "9 x 3 = 27\n",
      "9 x 4 = 36\n",
      "9 x 5 = 45\n",
      "9 x 6 = 54\n",
      "9 x 7 = 63\n",
      "9 x 8 = 72\n",
      "9 x 9 = 81\n",
      "9 x 10 = 90\n",
      "\n",
      "\n",
      "10 x 1 = 10\n",
      "10 x 2 = 20\n",
      "10 x 3 = 30\n",
      "10 x 4 = 40\n",
      "10 x 5 = 50\n",
      "10 x 6 = 60\n",
      "10 x 7 = 70\n",
      "10 x 8 = 80\n",
      "10 x 9 = 90\n",
      "10 x 10 = 100\n",
      "\n",
      "\n"
     ]
    }
   ],
   "source": [
    "for k in range (1,11):\n",
    "    for i in range (1,11):\n",
    "        print(f\"{k} x {i} = {k*i}\")\n",
    "    print(\"\\n\")"
   ]
  },
  {
   "cell_type": "markdown",
   "id": "97eb6d36-bf75-432e-a181-36594b438b2c",
   "metadata": {},
   "source": [
    "# 31. Print Patterns: Write a Python program using nested loops to print the following pattern:"
   ]
  },
  {
   "cell_type": "code",
   "execution_count": 55,
   "id": "044bd1b6-133b-4797-945e-83fa69846b5e",
   "metadata": {
    "tags": []
   },
   "outputs": [
    {
     "name": "stdout",
     "output_type": "stream",
     "text": [
      "*\n",
      "* *\n",
      "* * *\n",
      "* * * *\n",
      "* * * * *\n"
     ]
    }
   ],
   "source": [
    "l=[1,2,3,4,5]\n",
    "#m=[5,4,3,2,1]\n",
    "k=[]\n",
    "\n",
    "for i in l:\n",
    "    for x in range (0,i):\n",
    "        k.append(\"*\")\n",
    "    print(*k)\n",
    "    k=[]"
   ]
  },
  {
   "cell_type": "markdown",
   "id": "1bb718a4-571d-4e98-a674-baa66b2feb67",
   "metadata": {},
   "source": [
    "# 32. Matrix Multiplication: Write a Python program using nested loops to multiply two matrices."
   ]
  },
  {
   "cell_type": "code",
   "execution_count": 145,
   "id": "5e82d177-ad25-47c6-ae4d-8c8ec4ba2b95",
   "metadata": {
    "tags": []
   },
   "outputs": [
    {
     "name": "stdout",
     "output_type": "stream",
     "text": [
      "[104, 72, 49, 135]\n",
      "[254, 97, 73, 184]\n",
      "[3584, 661, 175, 409]\n"
     ]
    }
   ],
   "source": [
    "X = [[1,7,3],\n",
    "    [4 ,5,6],\n",
    "    [70 ,8,9]]\n",
    "\n",
    "Y = [[50,8,1,2],\n",
    "    [6,7,3,10],\n",
    "    [4,5,9,21]]\n",
    "\n",
    "result = [[0,0,0,0],\n",
    "         [0,0,0,0],\n",
    "         [0,0,0,0]]\n",
    "\n",
    "for i in range(len(X)):\n",
    "    for j in range(len(Y[0])):\n",
    "        for k in range(len(Y)):\n",
    "            result[i][j] += X[i][k] * Y[k][j]\n",
    "\n",
    "for i in result:\n",
    "    print(i)"
   ]
  },
  {
   "cell_type": "markdown",
   "id": "3da74397-fd43-4f31-93cf-986981b0f7a5",
   "metadata": {},
   "source": [
    "# 33. Chessboard Pattern: Write a Python program using nested loops to print a chessboard pattern (alternating “X” and “O” characters) of size 8×8."
   ]
  },
  {
   "cell_type": "code",
   "execution_count": 98,
   "id": "9615f479-cab6-4668-a7b9-c00612005317",
   "metadata": {
    "tags": []
   },
   "outputs": [
    {
     "name": "stdout",
     "output_type": "stream",
     "text": [
      "X O X O X O X O\n",
      "O X O X O X O X\n",
      "X O X O X O X O\n",
      "O X O X O X O X\n",
      "X O X O X O X O\n",
      "O X O X O X O X\n",
      "X O X O X O X O\n",
      "O X O X O X O X\n"
     ]
    }
   ],
   "source": [
    "k=[]\n",
    "for j in range(8):\n",
    "    for i in range(8):\n",
    "        if i%2==0:\n",
    "            k.append('X')\n",
    "        else:\n",
    "            k.append('O')\n",
    "    if j%2==0:\n",
    "        print(*k)\n",
    "    else:\n",
    "        k.reverse()\n",
    "        print(*k)\n",
    "    k=[]"
   ]
  },
  {
   "cell_type": "markdown",
   "id": "2fb071c0-4fb6-4525-a7de-773661ef5138",
   "metadata": {},
   "source": [
    "# 34. List Sum: Write a Python program to find the sum of all elements in a given list of integers."
   ]
  },
  {
   "cell_type": "code",
   "execution_count": 105,
   "id": "2c88f539-0338-4f8d-a6de-ea9be7a1f97c",
   "metadata": {
    "tags": []
   },
   "outputs": [
    {
     "name": "stdout",
     "output_type": "stream",
     "text": [
      "105\n",
      "105\n",
      "105\n"
     ]
    }
   ],
   "source": [
    "my_list=[1,2,3,4,5,56,7,8,9,10]\n",
    "sums=0\n",
    "for i in range (0,len(my_list)):\n",
    "    sums+=my_list[i]\n",
    "print(sums)\n",
    "\n",
    "#Alternatve Way\n",
    "print(sum(my_list))\n",
    "\n",
    "#Alternatve Way\n",
    "import numpy as np\n",
    "print(np.sum(my_list))"
   ]
  },
  {
   "cell_type": "markdown",
   "id": "8c1cabad-e4ac-41b3-bbb1-9a2828c1b91c",
   "metadata": {},
   "source": [
    "# 35. List Average: Write a Python program to calculate the average of all elements in a given list of integers."
   ]
  },
  {
   "cell_type": "code",
   "execution_count": 104,
   "id": "7b7e1976-43d2-4ffb-a682-ea349f03251a",
   "metadata": {
    "tags": []
   },
   "outputs": [
    {
     "name": "stdout",
     "output_type": "stream",
     "text": [
      "Average of the list elements: 10.5\n",
      "Average of the list elements: 10.5\n"
     ]
    }
   ],
   "source": [
    "my_list=[1,2,3,4,5,56,7,8,9,10]\n",
    "print(f\"Average of the list elements: {sum(my_list)/len(my_list)}\")\n",
    "\n",
    "#Alternative\n",
    "import numpy as np\n",
    "print(f\"Average of the list elements: {np.average(my_list)}\")"
   ]
  },
  {
   "cell_type": "markdown",
   "id": "cc52795f-e98b-4bea-970d-310b293255be",
   "metadata": {},
   "source": [
    "# 36. List Max and Min: Write a Python program to find the maximum and minimum values in a given list of integers."
   ]
  },
  {
   "cell_type": "code",
   "execution_count": 108,
   "id": "2b15d715-7b5b-4551-975a-7681800fb9f4",
   "metadata": {
    "tags": []
   },
   "outputs": [
    {
     "name": "stdout",
     "output_type": "stream",
     "text": [
      "Maximum of the list elements: 56\n",
      "Minimum of the list elements: 1\n"
     ]
    }
   ],
   "source": [
    "my_list=[1,2,3,4,5,56,7,8,9,10]\n",
    "import numpy as np\n",
    "print(f\"Maximum of the list elements: {np.max(my_list)}\")\n",
    "print(f\"Minimum of the list elements: {np.min(my_list)}\")"
   ]
  },
  {
   "cell_type": "markdown",
   "id": "9aacf148-7d41-4391-b36b-d21f4152cc2b",
   "metadata": {},
   "source": [
    "# 37. List Sorting: Write a Python program to sort a list of integers in ascending order."
   ]
  },
  {
   "cell_type": "code",
   "execution_count": 111,
   "id": "3b6d75fe-9b9c-45d4-bc65-ebeff90b6f56",
   "metadata": {
    "tags": []
   },
   "outputs": [
    {
     "name": "stdout",
     "output_type": "stream",
     "text": [
      "[1, 2, 3, 4, 5, 7, 8, 9, 10, 56]\n"
     ]
    }
   ],
   "source": [
    "my_list=[1,2,3,4,5,56,7,8,9,10]\n",
    "my_list.sort(reverse=False)\n",
    "print(my_list)"
   ]
  },
  {
   "cell_type": "markdown",
   "id": "1edc9a67-f02b-43b8-b794-99592a20c9ef",
   "metadata": {},
   "source": [
    "# 38. List Filtering: Given a list of integers, write a Python program to create a new list that contains only the even numbers from the original list."
   ]
  },
  {
   "cell_type": "code",
   "execution_count": 112,
   "id": "1b61c358-26e0-4fd0-abfd-005e90179a84",
   "metadata": {
    "tags": []
   },
   "outputs": [
    {
     "name": "stdout",
     "output_type": "stream",
     "text": [
      "[2, 4, 56, 8, 10]\n"
     ]
    }
   ],
   "source": [
    "my_list=[1,2,3,4,5,56,7,8,9,10]\n",
    "new_list=[]\n",
    "for i in my_list:\n",
    "    if i%2==0:\n",
    "        new_list.append(i)\n",
    "print(new_list)"
   ]
  },
  {
   "cell_type": "markdown",
   "id": "71f40035-4041-4cc7-b87a-6902e01983f6",
   "metadata": {},
   "source": [
    "# 39. List Reversal: Write a Python program to reverse a given list without using any built-in functions."
   ]
  },
  {
   "cell_type": "code",
   "execution_count": 127,
   "id": "ef6e126c-dae0-4aa9-bf5a-0bfde46b9866",
   "metadata": {
    "tags": []
   },
   "outputs": [
    {
     "name": "stdout",
     "output_type": "stream",
     "text": [
      "[10, 9, 8, 7, 56, 5, 4, 3, 2, 1]\n"
     ]
    }
   ],
   "source": [
    "my_list=[1,2,3,4,5,56,7,8,9,10]\n",
    "new_list=[]\n",
    "for i in range(1,len(my_list)+1):\n",
    "    new_list.append(my_list[-i])\n",
    "print(new_list)"
   ]
  },
  {
   "cell_type": "markdown",
   "id": "59f22dbe-e618-4215-8de6-10e71f417ed8",
   "metadata": {},
   "source": [
    "# 40. List Manipulation: Given two lists of integers, write a Python program to create a new list that contains elements common to both lists."
   ]
  },
  {
   "cell_type": "code",
   "execution_count": 134,
   "id": "55869c56-8c35-4d5c-87ac-8d15ac322648",
   "metadata": {
    "tags": []
   },
   "outputs": [
    {
     "name": "stdout",
     "output_type": "stream",
     "text": [
      "[2, 5, 9]\n"
     ]
    }
   ],
   "source": [
    "a=[1,2,3,4,5,56,7,8,9,10]\n",
    "b=[2,9,11,5,65,100,35,45]\n",
    "def common_elements(a, b):\n",
    "    cmn_list = [i for i in a if i in b]# List Comprehension\n",
    "    return cmn_list\n",
    "print(common_elements(a,b))"
   ]
  },
  {
   "cell_type": "markdown",
   "id": "57349782-e2d6-4551-bd89-6b2f8e432add",
   "metadata": {},
   "source": [
    "# 41. List Element Count: Write a Python program to count the occurrences of a specific element in a given list."
   ]
  },
  {
   "cell_type": "code",
   "execution_count": 130,
   "id": "72f3556f-5e91-4759-b3e9-173ceb0f9d37",
   "metadata": {
    "tags": []
   },
   "outputs": [
    {
     "name": "stdout",
     "output_type": "stream",
     "text": [
      "3\n",
      "3\n",
      "2\n"
     ]
    }
   ],
   "source": [
    "a=[1,2,3,4,5,56,7,8,9,10,1,2,56,10,1,10]\n",
    "print(a.count(1))\n",
    "print(a.count(10))\n",
    "print(a.count(56))"
   ]
  },
  {
   "cell_type": "markdown",
   "id": "a11e63a3-9dad-4a74-b95a-528c43b41620",
   "metadata": {},
   "source": [
    "# 42. List Duplicates Removal: Write a Python program to remove duplicates from a given list while preserving the order of the elements."
   ]
  },
  {
   "cell_type": "code",
   "execution_count": 133,
   "id": "b2a95831-a363-4b56-ae2f-03f47a0fa0aa",
   "metadata": {
    "tags": []
   },
   "outputs": [
    {
     "name": "stdout",
     "output_type": "stream",
     "text": [
      "[1, 2, 3, 4, 5, 56, 7, 8, 9, 10]\n"
     ]
    }
   ],
   "source": [
    "a=[1,2,3,4,5,56,7,8,9,10,1,2,56,10,1,10]\n",
    "def eliminate_dupli(n):\n",
    "    unique_list = []\n",
    "    for i in n:\n",
    "        if i not in unique_list:\n",
    "            unique_list.append(i)\n",
    "    #n=unique_list if I want to replace in place\n",
    "    return unique_list\n",
    "\n",
    "print(eliminate_dupli(a))"
   ]
  },
  {
   "cell_type": "markdown",
   "id": "86e86b2f-0ae1-4c43-9b1c-312410cbc80a",
   "metadata": {},
   "source": [
    "# 43. List Comprehension: Given a list of integers, write a Python program to create a new list that contains the squares of the elements using list comprehension."
   ]
  },
  {
   "cell_type": "code",
   "execution_count": 138,
   "id": "00a95e3a-78f3-415a-80ed-624e0d5a4ffc",
   "metadata": {
    "tags": []
   },
   "outputs": [
    {
     "name": "stdout",
     "output_type": "stream",
     "text": [
      "[1, 4, 9, 16, 25, 3136, 49, 64, 81, 100]\n"
     ]
    }
   ],
   "source": [
    "a=[1, 2, 3, 4, 5, 56, 7, 8, 9, 10]\n",
    "square_list = [i*i for i in a]#List comprehension\n",
    "print(square_list)"
   ]
  },
  {
   "cell_type": "code",
   "execution_count": null,
   "id": "e25027fc-5b38-4206-ba3a-2b4c204adbcd",
   "metadata": {},
   "outputs": [],
   "source": []
  }
 ],
 "metadata": {
  "kernelspec": {
   "display_name": "Python 3 (ipykernel)",
   "language": "python",
   "name": "python3"
  },
  "language_info": {
   "codemirror_mode": {
    "name": "ipython",
    "version": 3
   },
   "file_extension": ".py",
   "mimetype": "text/x-python",
   "name": "python",
   "nbconvert_exporter": "python",
   "pygments_lexer": "ipython3",
   "version": "3.11.3"
  }
 },
 "nbformat": 4,
 "nbformat_minor": 5
}
